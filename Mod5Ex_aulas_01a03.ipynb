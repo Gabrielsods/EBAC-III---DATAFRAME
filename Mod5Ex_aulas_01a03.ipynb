{
 "cells": [
  {
   "cell_type": "markdown",
   "metadata": {
    "id": "C7H7d6wxVOXJ"
   },
   "source": [
    "# Módulo 5 Tarefa 1\n",
    "## Base de nascidos vivos do DataSUS\n",
    "O DataSUS disponibiliza diversos arquivos de dados com relação a seus segurados, conforme a [lei da transparência de informações públicas](https://www.sisgov.com/transparencia-acesso-informacao/#:~:text=A%20Lei%20da%20Transpar%C3%AAncia%20(LC,em%20um%20site%20na%20internet.). \n",
    "\n",
    "Essas informações podem ser obtidas pela internet [aqui](http://www2.datasus.gov.br/DATASUS/index.php?area=0901&item=1). Como o processo de obtenção desses arquivos foge um pouco do nosso escopo, deixamos o arquivo ```SINASC_RO_2019.csv``` já como vai ser encontrado no DataSUS. O dicionário de dados está no arquivo ```estrutura_sinasc_para_CD.pdf``` (o nome do arquivo tal qual no portal do DataSUS).\n",
    "\n",
    "### Nosso objetivo\n",
    "Queremos deixar uma base organizada para podermos estudar a relação entre partos com risco para o bebê e algumas condições como tempo de parto, consultas de pré-natal etc.\n",
    "\n",
    "#### Preparação da base\n",
    "1. Carregue a base 'SINASC_RO_2019.csv'. Conte o número de registros e o número de registros não duplicados da base. Dica: você aprendeu um método que remove duplicados, encadeie este método com um outro método que conta o número de linhas. **Há linhas duplicadas?**  \n",
    "\n",
    "2. Conte o número de valores *missing* por variável.  \n",
    "\n",
    "3. Ok, no item anterior você deve ter achado pouco prático ler a informação de tantas variáveis, muitas delas nem devem ser interesantes. Então crie uma seleção dessa base somente com as colunas que interessam. São elas:\n",
    "``` \n",
    "['LOCNASC', 'IDADEMAE', 'ESTCIVMAE', 'ESCMAE', 'QTDFILVIVO', \n",
    "    'GESTACAO', 'GRAVIDEZ', 'CONSULTAS', 'APGAR5'] \n",
    "```\n",
    "Refaça a contagem de valores *missings*.  \n",
    "\n",
    "4. Apgar é uma *nota* que o pediatra dá ao bebê quando nasce de acordo com algumas características associadas principalmente à respiração. Apgar 1 e Apgar 5 são as notas 1 e 5 minutos do nascimento. Apgar5 será a nossa variável de interesse principal. Então remova todos os registros com Apgar5 não preenchido. Para esta seleção, conte novamente o número de linhas e o número de *missings*.  \n",
    "\n",
    "5. observe que as variáveis ```['ESTCIVMAE', 'CONSULTAS']``` possuem o código ```9```, que significa *ignorado*. Vamos assumir que o não preenchido é o mesmo que o código ```9```.<br>\n",
    "6. Substitua os valores faltantes da quantitativa (```QTDFILVIVO```) por zero.  \n",
    "7. Das restantes, decida que valore te parece mais adequado (um 'não preenchido' ou um valor 'mais provável' como no item anterior) e preencha. Justifique. Lembre-se de que tratamento de dados é trabalho do cientista, e que estamos tomando decisões a todo o momento - não há necessariamente certo e errado aqui.  \n",
    "8. O Apgar possui uma classificação indicando se o bebê passou por asfixia:\n",
    "- Entre 8 e 10 está em uma faixa 'normal'. \n",
    "- Entre 6 e 7, significa que o recém-nascido passou por 'asfixia leve'. \n",
    "- Entre 4 e 5 significa 'asfixia moderada'.\n",
    "- Entre 0 e 3 significa 'asfixia severa'.  \n",
    "\n",
    "Crie uma categorização dessa variável com essa codificação e calcule as frequências dessa categorização.  \n",
    "<br>\n",
    "9. Renomeie as variáveis para que fiquem no *snake case*, ou seja, em letras minúsculas, com um *underscore* entre as palávras. Dica: repare que se você não quiser criar um *dataframe* novo, você vai precisar usar a opção ```inplace = True```."
   ]
  },
  {
   "cell_type": "code",
   "execution_count": 1,
   "metadata": {
    "colab": {
     "background_save": true
    },
    "id": "VSLJ-aJ5VOXT"
   },
   "outputs": [
    {
     "name": "stdout",
     "output_type": "stream",
     "text": [
      "(27028, 69)\n"
     ]
    },
    {
     "data": {
      "text/plain": [
       "(27028, 69)"
      ]
     },
     "execution_count": 1,
     "metadata": {},
     "output_type": "execute_result"
    }
   ],
   "source": [
    "import pandas as pd\n",
    "import requests\n",
    "\n",
    "# 1) seu código aqui\n",
    "sinasc = pd.read_csv('SINASC_RO_2019.csv')\n",
    "print(sinasc.shape)\n",
    "sinasc.drop_duplicates().shape\n",
    "# Não há duplicados"
   ]
  },
  {
   "cell_type": "code",
   "execution_count": null,
   "metadata": {
    "id": "Wm0_eN-ObRqP"
   },
   "outputs": [],
   "source": []
  },
  {
   "cell_type": "code",
   "execution_count": 2,
   "metadata": {
    "executionInfo": {
     "elapsed": 5,
     "status": "aborted",
     "timestamp": 1661958106810,
     "user": {
      "displayName": "Gabriel Soares Da Silva",
      "userId": "18213590743183413330"
     },
     "user_tz": 180
    },
    "id": "sj_DIrcKVOXV"
   },
   "outputs": [
    {
     "data": {
      "text/plain": [
       "DTRECORIGA    27028\n",
       "CODANOMAL     26814\n",
       "IDADEPAI      19421\n",
       "SERIESCMAE    12710\n",
       "DTULTMENST    10072\n",
       "              ...  \n",
       "PESO              0\n",
       "DTCADASTRO        0\n",
       "NUMEROLOTE        0\n",
       "VERSAOSIST        0\n",
       "ORIGEM            0\n",
       "Length: 69, dtype: int64"
      ]
     },
     "execution_count": 2,
     "metadata": {},
     "output_type": "execute_result"
    }
   ],
   "source": [
    "# 2) seu código aqui\n",
    "df = pd.DataFrame(sinasc)\n",
    "df.isna().sum().sort_values(ascending=False)"
   ]
  },
  {
   "cell_type": "code",
   "execution_count": 32,
   "metadata": {
    "executionInfo": {
     "elapsed": 6,
     "status": "aborted",
     "timestamp": 1661958106811,
     "user": {
      "displayName": "Gabriel Soares Da Silva",
      "userId": "18213590743183413330"
     },
     "user_tz": 180
    },
    "id": "O8tQQ0k2VOXW"
   },
   "outputs": [
    {
     "data": {
      "text/plain": [
       "QTDFILVIVO    1573\n",
       "GESTACAO      1232\n",
       "ESTCIVMAE      317\n",
       "ESCMAE         312\n",
       "APGAR5         103\n",
       "GRAVIDEZ        79\n",
       "LOCNASC          0\n",
       "IDADEMAE         0\n",
       "CONSULTAS        0\n",
       "dtype: int64"
      ]
     },
     "execution_count": 32,
     "metadata": {},
     "output_type": "execute_result"
    }
   ],
   "source": [
    "# 3) seu código aqui\n",
    "df[['LOCNASC', 'IDADEMAE', 'ESTCIVMAE', 'ESCMAE', 'QTDFILVIVO', \n",
    " 'GESTACAO', 'GRAVIDEZ', 'CONSULTAS', 'APGAR5']].isna().sum().sort_values(ascending=False)\n"
   ]
  },
  {
   "cell_type": "code",
   "execution_count": 63,
   "metadata": {
    "executionInfo": {
     "elapsed": 7,
     "status": "aborted",
     "timestamp": 1661958106812,
     "user": {
      "displayName": "Gabriel Soares Da Silva",
      "userId": "18213590743183413330"
     },
     "user_tz": 180
    },
    "id": "-nLyHlxyVOXW"
   },
   "outputs": [
    {
     "data": {
      "text/plain": [
       "QTDFILVIVO    1566\n",
       "GESTACAO      1216\n",
       "ESTCIVMAE      315\n",
       "ESCMAE         310\n",
       "GRAVIDEZ        76\n",
       "LOCNASC          0\n",
       "IDADEMAE         0\n",
       "CONSULTAS        0\n",
       "APGAR5           0\n",
       "dtype: int64"
      ]
     },
     "execution_count": 63,
     "metadata": {},
     "output_type": "execute_result"
    }
   ],
   "source": [
    "# 4) seu código aqui\n",
    "df2 = df[['LOCNASC', 'IDADEMAE', 'ESTCIVMAE', 'ESCMAE', 'QTDFILVIVO','GESTACAO', 'GRAVIDEZ', 'CONSULTAS', 'APGAR5']]\n",
    "df2 = df2.dropna(subset=['APGAR5'])\n",
    "df2.isna().sum().sort_values(ascending=False)"
   ]
  },
  {
   "cell_type": "code",
   "execution_count": 64,
   "metadata": {
    "executionInfo": {
     "elapsed": 8,
     "status": "aborted",
     "timestamp": 1661958106813,
     "user": {
      "displayName": "Gabriel Soares Da Silva",
      "userId": "18213590743183413330"
     },
     "user_tz": 180
    },
    "id": "__nk69bJVOXX",
    "scrolled": true
   },
   "outputs": [
    {
     "name": "stderr",
     "output_type": "stream",
     "text": [
      "C:\\Users\\gabrielhxcx\\AppData\\Local\\Temp\\ipykernel_7284\\2205742231.py:2: FutureWarning: Dropping of nuisance columns in DataFrame reductions (with 'numeric_only=None') is deprecated; in a future version this will raise TypeError.  Select only valid columns before calling the reduction.\n",
      "  df2.loc[(df2['ESTCIVMAE'] == 9) | (df2['CONSULTAS'] == 9)].sum()\n"
     ]
    },
    {
     "data": {
      "text/plain": [
       "LOCNASC        197.0\n",
       "IDADEMAE      4862.0\n",
       "ESTCIVMAE     1402.0\n",
       "QTDFILVIVO     187.0\n",
       "CONSULTAS      966.0\n",
       "APGAR5        1781.0\n",
       "dtype: float64"
      ]
     },
     "execution_count": 64,
     "metadata": {},
     "output_type": "execute_result"
    }
   ],
   "source": [
    "# 5) seu código aqui\n",
    "df2.loc[(df2['ESTCIVMAE'] == 9) | (df2['CONSULTAS'] == 9)].sum()"
   ]
  },
  {
   "cell_type": "code",
   "execution_count": 65,
   "metadata": {
    "executionInfo": {
     "elapsed": 8,
     "status": "aborted",
     "timestamp": 1661958106814,
     "user": {
      "displayName": "Gabriel Soares Da Silva",
      "userId": "18213590743183413330"
     },
     "user_tz": 180
    },
    "id": "i9ZQ0xbsVOXY"
   },
   "outputs": [
    {
     "data": {
      "text/plain": [
       "0"
      ]
     },
     "execution_count": 65,
     "metadata": {},
     "output_type": "execute_result"
    }
   ],
   "source": [
    "# 6) Seu código aqui\n",
    "df2['QTDFILVIVO'].fillna(0,inplace=True)\n",
    "df2['QTDFILVIVO'].isna().sum()"
   ]
  },
  {
   "cell_type": "code",
   "execution_count": 66,
   "metadata": {
    "colab": {
     "base_uri": "https://localhost:8080/"
    },
    "executionInfo": {
     "elapsed": 361,
     "status": "ok",
     "timestamp": 1661876202639,
     "user": {
      "displayName": "Gabriel Soares Da Silva",
      "userId": "18213590743183413330"
     },
     "user_tz": 180
    },
    "id": "bpPX3Q4oVOXY",
    "outputId": "46e37007-f56a-479d-c776-c0843c9fffcf"
   },
   "outputs": [
    {
     "data": {
      "text/plain": [
       "LOCNASC          0\n",
       "IDADEMAE         0\n",
       "ESTCIVMAE      315\n",
       "ESCMAE         310\n",
       "QTDFILVIVO       0\n",
       "GESTACAO      1216\n",
       "GRAVIDEZ        76\n",
       "CONSULTAS        0\n",
       "APGAR5           0\n",
       "dtype: int64"
      ]
     },
     "execution_count": 66,
     "metadata": {},
     "output_type": "execute_result"
    }
   ],
   "source": [
    "# 7) seu código aqui\n",
    "\n",
    "#verificando variaveis vazias;\n",
    "\n",
    "df2.isna().sum()"
   ]
  },
  {
   "cell_type": "code",
   "execution_count": 67,
   "metadata": {
    "colab": {
     "base_uri": "https://localhost:8080/",
     "height": 238
    },
    "executionInfo": {
     "elapsed": 293,
     "status": "ok",
     "timestamp": 1661876204756,
     "user": {
      "displayName": "Gabriel Soares Da Silva",
      "userId": "18213590743183413330"
     },
     "user_tz": 180
    },
    "id": "4B78L_qbVOXZ",
    "outputId": "9e79b9d6-67cd-49c4-cd3d-3f6d25981571"
   },
   "outputs": [
    {
     "data": {
      "text/html": [
       "<div>\n",
       "<style scoped>\n",
       "    .dataframe tbody tr th:only-of-type {\n",
       "        vertical-align: middle;\n",
       "    }\n",
       "\n",
       "    .dataframe tbody tr th {\n",
       "        vertical-align: top;\n",
       "    }\n",
       "\n",
       "    .dataframe thead th {\n",
       "        text-align: right;\n",
       "    }\n",
       "</style>\n",
       "<table border=\"1\" class=\"dataframe\">\n",
       "  <thead>\n",
       "    <tr style=\"text-align: right;\">\n",
       "      <th></th>\n",
       "      <th>count</th>\n",
       "      <th>mean</th>\n",
       "      <th>std</th>\n",
       "      <th>min</th>\n",
       "      <th>25%</th>\n",
       "      <th>50%</th>\n",
       "      <th>75%</th>\n",
       "      <th>max</th>\n",
       "    </tr>\n",
       "  </thead>\n",
       "  <tbody>\n",
       "    <tr>\n",
       "      <th>LOCNASC</th>\n",
       "      <td>26925.0</td>\n",
       "      <td>1.007168</td>\n",
       "      <td>0.126025</td>\n",
       "      <td>1.0</td>\n",
       "      <td>1.0</td>\n",
       "      <td>1.0</td>\n",
       "      <td>1.0</td>\n",
       "      <td>4.0</td>\n",
       "    </tr>\n",
       "    <tr>\n",
       "      <th>IDADEMAE</th>\n",
       "      <td>26925.0</td>\n",
       "      <td>26.095339</td>\n",
       "      <td>6.386409</td>\n",
       "      <td>11.0</td>\n",
       "      <td>21.0</td>\n",
       "      <td>26.0</td>\n",
       "      <td>31.0</td>\n",
       "      <td>53.0</td>\n",
       "    </tr>\n",
       "    <tr>\n",
       "      <th>ESTCIVMAE</th>\n",
       "      <td>26610.0</td>\n",
       "      <td>2.544720</td>\n",
       "      <td>1.670264</td>\n",
       "      <td>1.0</td>\n",
       "      <td>1.0</td>\n",
       "      <td>2.0</td>\n",
       "      <td>5.0</td>\n",
       "      <td>9.0</td>\n",
       "    </tr>\n",
       "    <tr>\n",
       "      <th>QTDFILVIVO</th>\n",
       "      <td>26925.0</td>\n",
       "      <td>0.989601</td>\n",
       "      <td>1.158913</td>\n",
       "      <td>0.0</td>\n",
       "      <td>0.0</td>\n",
       "      <td>1.0</td>\n",
       "      <td>1.0</td>\n",
       "      <td>30.0</td>\n",
       "    </tr>\n",
       "    <tr>\n",
       "      <th>CONSULTAS</th>\n",
       "      <td>26925.0</td>\n",
       "      <td>3.578793</td>\n",
       "      <td>0.785540</td>\n",
       "      <td>1.0</td>\n",
       "      <td>3.0</td>\n",
       "      <td>4.0</td>\n",
       "      <td>4.0</td>\n",
       "      <td>9.0</td>\n",
       "    </tr>\n",
       "    <tr>\n",
       "      <th>APGAR5</th>\n",
       "      <td>26925.0</td>\n",
       "      <td>9.179164</td>\n",
       "      <td>0.790574</td>\n",
       "      <td>0.0</td>\n",
       "      <td>9.0</td>\n",
       "      <td>9.0</td>\n",
       "      <td>10.0</td>\n",
       "      <td>10.0</td>\n",
       "    </tr>\n",
       "  </tbody>\n",
       "</table>\n",
       "</div>"
      ],
      "text/plain": [
       "              count       mean       std   min   25%   50%   75%   max\n",
       "LOCNASC     26925.0   1.007168  0.126025   1.0   1.0   1.0   1.0   4.0\n",
       "IDADEMAE    26925.0  26.095339  6.386409  11.0  21.0  26.0  31.0  53.0\n",
       "ESTCIVMAE   26610.0   2.544720  1.670264   1.0   1.0   2.0   5.0   9.0\n",
       "QTDFILVIVO  26925.0   0.989601  1.158913   0.0   0.0   1.0   1.0  30.0\n",
       "CONSULTAS   26925.0   3.578793  0.785540   1.0   3.0   4.0   4.0   9.0\n",
       "APGAR5      26925.0   9.179164  0.790574   0.0   9.0   9.0  10.0  10.0"
      ]
     },
     "execution_count": 67,
     "metadata": {},
     "output_type": "execute_result"
    }
   ],
   "source": [
    "# Verificando os dados antes da alteração\n",
    "df2.describe().transpose()"
   ]
  },
  {
   "cell_type": "code",
   "execution_count": 68,
   "metadata": {
    "colab": {
     "base_uri": "https://localhost:8080/"
    },
    "executionInfo": {
     "elapsed": 1,
     "status": "ok",
     "timestamp": 1661876206191,
     "user": {
      "displayName": "Gabriel Soares Da Silva",
      "userId": "18213590743183413330"
     },
     "user_tz": 180
    },
    "id": "U60vVW7QVOXZ",
    "outputId": "0733f5f9-9d34-4a4d-fbc0-e82b1b956776"
   },
   "outputs": [
    {
     "data": {
      "text/plain": [
       "ESTCIVMAE    float64\n",
       "ESCMAE        object\n",
       "GESTACAO      object\n",
       "GRAVIDEZ      object\n",
       "dtype: object"
      ]
     },
     "execution_count": 68,
     "metadata": {},
     "output_type": "execute_result"
    }
   ],
   "source": [
    "# a variavel 'ESTCIVMAE'(float64), sera substituída por sua média, \n",
    "#enquanto os valores no formato object serão dropados sem alterar significativamente o restante da base.\n",
    "\n",
    "df2[['ESTCIVMAE','ESCMAE','GESTACAO','GRAVIDEZ']].dtypes"
   ]
  },
  {
   "cell_type": "code",
   "execution_count": 69,
   "metadata": {
    "colab": {
     "base_uri": "https://localhost:8080/",
     "height": 293
    },
    "executionInfo": {
     "elapsed": 268,
     "status": "ok",
     "timestamp": 1661876208533,
     "user": {
      "displayName": "Gabriel Soares Da Silva",
      "userId": "18213590743183413330"
     },
     "user_tz": 180
    },
    "id": "ATtDyH68XIBI",
    "outputId": "ed9693e8-694c-488f-96c2-d78566e8dad7"
   },
   "outputs": [
    {
     "name": "stderr",
     "output_type": "stream",
     "text": [
      "C:\\Users\\gabrielhxcx\\AppData\\Local\\Temp\\ipykernel_7284\\148169813.py:1: FutureWarning: Dropping of nuisance columns in DataFrame reductions (with 'numeric_only=None') is deprecated; in a future version this will raise TypeError.  Select only valid columns before calling the reduction.\n",
      "  df2['ESTCIVMAE'].fillna(df2.mean(),inplace=True)\n"
     ]
    },
    {
     "data": {
      "text/html": [
       "<div>\n",
       "<style scoped>\n",
       "    .dataframe tbody tr th:only-of-type {\n",
       "        vertical-align: middle;\n",
       "    }\n",
       "\n",
       "    .dataframe tbody tr th {\n",
       "        vertical-align: top;\n",
       "    }\n",
       "\n",
       "    .dataframe thead th {\n",
       "        text-align: right;\n",
       "    }\n",
       "</style>\n",
       "<table border=\"1\" class=\"dataframe\">\n",
       "  <thead>\n",
       "    <tr style=\"text-align: right;\">\n",
       "      <th></th>\n",
       "      <th>count</th>\n",
       "      <th>mean</th>\n",
       "      <th>std</th>\n",
       "      <th>min</th>\n",
       "      <th>25%</th>\n",
       "      <th>50%</th>\n",
       "      <th>75%</th>\n",
       "      <th>max</th>\n",
       "    </tr>\n",
       "  </thead>\n",
       "  <tbody>\n",
       "    <tr>\n",
       "      <th>LOCNASC</th>\n",
       "      <td>26925.0</td>\n",
       "      <td>1.007168</td>\n",
       "      <td>0.126025</td>\n",
       "      <td>1.0</td>\n",
       "      <td>1.0</td>\n",
       "      <td>1.0</td>\n",
       "      <td>1.0</td>\n",
       "      <td>4.0</td>\n",
       "    </tr>\n",
       "    <tr>\n",
       "      <th>IDADEMAE</th>\n",
       "      <td>26925.0</td>\n",
       "      <td>26.095339</td>\n",
       "      <td>6.386409</td>\n",
       "      <td>11.0</td>\n",
       "      <td>21.0</td>\n",
       "      <td>26.0</td>\n",
       "      <td>31.0</td>\n",
       "      <td>53.0</td>\n",
       "    </tr>\n",
       "    <tr>\n",
       "      <th>ESTCIVMAE</th>\n",
       "      <td>26610.0</td>\n",
       "      <td>2.544720</td>\n",
       "      <td>1.670264</td>\n",
       "      <td>1.0</td>\n",
       "      <td>1.0</td>\n",
       "      <td>2.0</td>\n",
       "      <td>5.0</td>\n",
       "      <td>9.0</td>\n",
       "    </tr>\n",
       "    <tr>\n",
       "      <th>QTDFILVIVO</th>\n",
       "      <td>26925.0</td>\n",
       "      <td>0.989601</td>\n",
       "      <td>1.158913</td>\n",
       "      <td>0.0</td>\n",
       "      <td>0.0</td>\n",
       "      <td>1.0</td>\n",
       "      <td>1.0</td>\n",
       "      <td>30.0</td>\n",
       "    </tr>\n",
       "    <tr>\n",
       "      <th>CONSULTAS</th>\n",
       "      <td>26925.0</td>\n",
       "      <td>3.578793</td>\n",
       "      <td>0.785540</td>\n",
       "      <td>1.0</td>\n",
       "      <td>3.0</td>\n",
       "      <td>4.0</td>\n",
       "      <td>4.0</td>\n",
       "      <td>9.0</td>\n",
       "    </tr>\n",
       "    <tr>\n",
       "      <th>APGAR5</th>\n",
       "      <td>26925.0</td>\n",
       "      <td>9.179164</td>\n",
       "      <td>0.790574</td>\n",
       "      <td>0.0</td>\n",
       "      <td>9.0</td>\n",
       "      <td>9.0</td>\n",
       "      <td>10.0</td>\n",
       "      <td>10.0</td>\n",
       "    </tr>\n",
       "  </tbody>\n",
       "</table>\n",
       "</div>"
      ],
      "text/plain": [
       "              count       mean       std   min   25%   50%   75%   max\n",
       "LOCNASC     26925.0   1.007168  0.126025   1.0   1.0   1.0   1.0   4.0\n",
       "IDADEMAE    26925.0  26.095339  6.386409  11.0  21.0  26.0  31.0  53.0\n",
       "ESTCIVMAE   26610.0   2.544720  1.670264   1.0   1.0   2.0   5.0   9.0\n",
       "QTDFILVIVO  26925.0   0.989601  1.158913   0.0   0.0   1.0   1.0  30.0\n",
       "CONSULTAS   26925.0   3.578793  0.785540   1.0   3.0   4.0   4.0   9.0\n",
       "APGAR5      26925.0   9.179164  0.790574   0.0   9.0   9.0  10.0  10.0"
      ]
     },
     "execution_count": 69,
     "metadata": {},
     "output_type": "execute_result"
    }
   ],
   "source": [
    "df2['ESTCIVMAE'].fillna(df2.mean(),inplace=True)\n",
    "df2.describe().transpose()"
   ]
  },
  {
   "cell_type": "code",
   "execution_count": 70,
   "metadata": {
    "colab": {
     "base_uri": "https://localhost:8080/"
    },
    "executionInfo": {
     "elapsed": 715,
     "status": "ok",
     "timestamp": 1661876210472,
     "user": {
      "displayName": "Gabriel Soares Da Silva",
      "userId": "18213590743183413330"
     },
     "user_tz": 180
    },
    "id": "pbCFX6g0VOXa",
    "outputId": "03644df5-b06c-46a9-f8a2-bcbe733d1c85"
   },
   "outputs": [
    {
     "data": {
      "text/plain": [
       "-7.05"
      ]
     },
     "execution_count": 70,
     "metadata": {},
     "output_type": "execute_result"
    }
   ],
   "source": [
    "# realizando o metodo de drop, temos uma redução de -7.05% na base total.\n",
    "df2.dropna(inplace=True)\n",
    "qnt_antiga, _  = df.shape\n",
    "qnt_novo, _  = df2.shape\n",
    "\n",
    "round(((qnt_novo/qnt_antiga)-1)*100,ndigits=2)\n",
    "\n",
    "# Resultado: baixa alteração no padrão da base; podemos seguir com a análise."
   ]
  },
  {
   "cell_type": "code",
   "execution_count": 74,
   "metadata": {
    "colab": {
     "base_uri": "https://localhost:8080/"
    },
    "executionInfo": {
     "elapsed": 372,
     "status": "ok",
     "timestamp": 1661876619409,
     "user": {
      "displayName": "Gabriel Soares Da Silva",
      "userId": "18213590743183413330"
     },
     "user_tz": 180
    },
    "id": "ZF7ZMJ_kVOXb",
    "outputId": "6df1e686-8fc9-4fe6-e923-9e851187d8a1"
   },
   "outputs": [
    {
     "data": {
      "text/plain": [
       "CAT_APGAR5      \n",
       "normal              24699\n",
       "Asfixia leve          297\n",
       "Asfixia severa         67\n",
       "Asfixia moderada       59\n",
       "dtype: int64"
      ]
     },
     "execution_count": 74,
     "metadata": {},
     "output_type": "execute_result"
    }
   ],
   "source": [
    "# 8) seu código aqui\n",
    "df2.loc[df2['APGAR5'] <= 10,'CAT_APGAR5'] = \"normal\"\n",
    "df2.loc[df2['APGAR5'] <= 7,'CAT_APGAR5'] = \"Asfixia leve\"\n",
    "df2.loc[df2['APGAR5'] <= 5,'CAT_APGAR5'] = \"Asfixia moderada\"\n",
    "df2.loc[df2['APGAR5'] <= 3,'CAT_APGAR5'] = \"Asfixia severa\"\n",
    "\n",
    "df2[['CAT_APGAR5']].value_counts()"
   ]
  },
  {
   "cell_type": "code",
   "execution_count": 75,
   "metadata": {
    "colab": {
     "base_uri": "https://localhost:8080/"
    },
    "executionInfo": {
     "elapsed": 283,
     "status": "ok",
     "timestamp": 1661876216799,
     "user": {
      "displayName": "Gabriel Soares Da Silva",
      "userId": "18213590743183413330"
     },
     "user_tz": 180
    },
    "id": "1Tex_w9cbF2X",
    "outputId": "a98ce3a7-a596-45bd-9e20-e027d5d3a1e7"
   },
   "outputs": [
    {
     "data": {
      "text/plain": [
       "normal              98.3162\n",
       "Asfixia leve         1.1822\n",
       "Asfixia severa       0.2667\n",
       "Asfixia moderada     0.2349\n",
       "Name: CAT_APGAR5, dtype: float64"
      ]
     },
     "execution_count": 75,
     "metadata": {},
     "output_type": "execute_result"
    }
   ],
   "source": [
    "\n",
    "x = df2['CAT_APGAR5'].value_counts()\n",
    "y = round((x/sum(x)*100),4)\n",
    "y"
   ]
  },
  {
   "cell_type": "code",
   "execution_count": 163,
   "metadata": {
    "id": "ZgMzk-TLVOXb"
   },
   "outputs": [],
   "source": [
    "# 9) seu código aqui\n",
    "\n",
    "df2['CAT_APGAR5'] = df2['CAT_APGAR5'].str.replace(' ','_')\n",
    "\n"
   ]
  },
  {
   "cell_type": "code",
   "execution_count": 165,
   "metadata": {
    "colab": {
     "base_uri": "https://localhost:8080/"
    },
    "executionInfo": {
     "elapsed": 2,
     "status": "ok",
     "timestamp": 1661876719309,
     "user": {
      "displayName": "Gabriel Soares Da Silva",
      "userId": "18213590743183413330"
     },
     "user_tz": 180
    },
    "id": "nEqQBRrqeLob",
    "outputId": "940abb52-ad3f-40d8-a91b-354d782a33e4",
    "scrolled": true
   },
   "outputs": [
    {
     "data": {
      "text/plain": [
       "normal              24699\n",
       "Asfixia_leve          297\n",
       "Asfixia_severa         67\n",
       "Asfixia_moderada       59\n",
       "Name: CAT_APGAR5, dtype: int64"
      ]
     },
     "execution_count": 165,
     "metadata": {},
     "output_type": "execute_result"
    }
   ],
   "source": [
    "df2['CAT_APGAR5'].value_counts()"
   ]
  }
 ],
 "metadata": {
  "colab": {
   "name": "Mod5Ex_aulas_01a03.ipynb",
   "version": ""
  },
  "kernelspec": {
   "display_name": "Python 3 (ipykernel)",
   "language": "python",
   "name": "python3"
  },
  "language_info": {
   "codemirror_mode": {
    "name": "ipython",
    "version": 3
   },
   "file_extension": ".py",
   "mimetype": "text/x-python",
   "name": "python",
   "nbconvert_exporter": "python",
   "pygments_lexer": "ipython3",
   "version": "3.9.12"
  }
 },
 "nbformat": 4,
 "nbformat_minor": 1
}
